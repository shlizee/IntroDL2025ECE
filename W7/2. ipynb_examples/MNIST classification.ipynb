{
 "cells": [
  {
   "cell_type": "markdown",
   "id": "ece97bb6-3ccf-474a-94b8-9b60a80a29b8",
   "metadata": {},
   "source": [
    "# <span style='color:blue'> LAB 7: </span>\n",
    "# <span style='color:blue'> ADVANCED CNN ARCHITECTURE </span>"
   ]
  },
  {
   "cell_type": "code",
   "execution_count": 1,
   "id": "2d7fd5c0-5ee3-4953-b605-8cbe40c72694",
   "metadata": {},
   "outputs": [],
   "source": [
    "import torch\n",
    "import time\n",
    "import numpy as np\n",
    "import seaborn as sns"
   ]
  },
  {
   "cell_type": "markdown",
   "id": "761c92fb-ed10-4bb3-9707-829904713593",
   "metadata": {},
   "source": [
    "## <span style='color:red'> MNIST Classification </span>"
   ]
  },
  {
   "cell_type": "code",
   "execution_count": 2,
   "id": "59fa0c17-171c-4518-9c2d-6ef34cf2f643",
   "metadata": {},
   "outputs": [],
   "source": [
    "# Seaborn plot styling\n",
    "sns.set(style = 'white', font_scale = 2)"
   ]
  },
  {
   "cell_type": "markdown",
   "id": "365e78d5-18b5-4b3c-92f5-9825b9b6508e",
   "metadata": {},
   "source": [
    "## Prepare Data"
   ]
  },
  {
   "cell_type": "code",
   "execution_count": 3,
   "id": "b5c0cb7c-53a4-42bf-82ba-1bea380591bd",
   "metadata": {
    "scrolled": true
   },
   "outputs": [],
   "source": [
    "from torchvision import datasets, transforms\n",
    "\n",
    "transform = transforms.Compose(\n",
    "    [transforms.ToTensor(), transforms.Normalize((0.1307,), (0.3081,))]\n",
    ")\n",
    "\n",
    "train_dataset = datasets.MNIST(\n",
    "    root=\"./data\", train=True, download=True, transform=transform\n",
    ")\n",
    "test_dataset = datasets.MNIST(\n",
    "    root=\"./data\", train=False, download=True, transform=transform\n",
    ")"
   ]
  },
  {
   "cell_type": "markdown",
   "id": "e5665486-ef07-4f95-93e5-27ed534bfa95",
   "metadata": {},
   "source": [
    "## Define Model"
   ]
  },
  {
   "cell_type": "code",
   "execution_count": 4,
   "id": "b0a3f538-fd7b-4bc3-b2c2-4f1a8ad402fd",
   "metadata": {},
   "outputs": [],
   "source": [
    "from torchvision.models import resnet18"
   ]
  },
  {
   "cell_type": "code",
   "execution_count": 5,
   "id": "10067276-a19c-43cd-b4be-02a01138bd36",
   "metadata": {},
   "outputs": [],
   "source": [
    "class MNIST_ResNet_Classifier(torch.nn.Module):\n",
    "    \n",
    "    def __init__(self, out_channels, kernel_size, stride, padding):\n",
    "        \n",
    "        super(MNIST_ResNet_Classifier, self).__init__()\n",
    "\n",
    "        self.resnet = resnet18()\n",
    "        \n",
    "        self.resnet.conv1 = torch.nn.Conv2d(1, out_channels = out_channels, \n",
    "                                      kernel_size=(kernel_size, kernel_size), \n",
    "                                      stride=(stride, stride), \n",
    "                                      padding=(padding, padding), \n",
    "                                      bias=False)\n",
    "        \n",
    "        self.resnet.fc = torch.nn.Linear(self.resnet.fc.in_features, 10)\n",
    "\n",
    "    def forward(self, x):\n",
    "        \n",
    "        return self.resnet(x)"
   ]
  },
  {
   "cell_type": "markdown",
   "id": "1cb9985d-8f8f-48de-9c45-c8878a36674d",
   "metadata": {},
   "source": [
    "## Define Hyperparameters"
   ]
  },
  {
   "cell_type": "code",
   "execution_count": 6,
   "id": "73167605-2bbb-478a-a6d2-b153c2ecac04",
   "metadata": {},
   "outputs": [
    {
     "data": {
      "text/plain": [
       "MNIST_ResNet_Classifier(\n",
       "  (resnet): ResNet(\n",
       "    (conv1): Conv2d(1, 64, kernel_size=(7, 7), stride=(2, 2), padding=(3, 3), bias=False)\n",
       "    (bn1): BatchNorm2d(64, eps=1e-05, momentum=0.1, affine=True, track_running_stats=True)\n",
       "    (relu): ReLU(inplace=True)\n",
       "    (maxpool): MaxPool2d(kernel_size=3, stride=2, padding=1, dilation=1, ceil_mode=False)\n",
       "    (layer1): Sequential(\n",
       "      (0): BasicBlock(\n",
       "        (conv1): Conv2d(64, 64, kernel_size=(3, 3), stride=(1, 1), padding=(1, 1), bias=False)\n",
       "        (bn1): BatchNorm2d(64, eps=1e-05, momentum=0.1, affine=True, track_running_stats=True)\n",
       "        (relu): ReLU(inplace=True)\n",
       "        (conv2): Conv2d(64, 64, kernel_size=(3, 3), stride=(1, 1), padding=(1, 1), bias=False)\n",
       "        (bn2): BatchNorm2d(64, eps=1e-05, momentum=0.1, affine=True, track_running_stats=True)\n",
       "      )\n",
       "      (1): BasicBlock(\n",
       "        (conv1): Conv2d(64, 64, kernel_size=(3, 3), stride=(1, 1), padding=(1, 1), bias=False)\n",
       "        (bn1): BatchNorm2d(64, eps=1e-05, momentum=0.1, affine=True, track_running_stats=True)\n",
       "        (relu): ReLU(inplace=True)\n",
       "        (conv2): Conv2d(64, 64, kernel_size=(3, 3), stride=(1, 1), padding=(1, 1), bias=False)\n",
       "        (bn2): BatchNorm2d(64, eps=1e-05, momentum=0.1, affine=True, track_running_stats=True)\n",
       "      )\n",
       "    )\n",
       "    (layer2): Sequential(\n",
       "      (0): BasicBlock(\n",
       "        (conv1): Conv2d(64, 128, kernel_size=(3, 3), stride=(2, 2), padding=(1, 1), bias=False)\n",
       "        (bn1): BatchNorm2d(128, eps=1e-05, momentum=0.1, affine=True, track_running_stats=True)\n",
       "        (relu): ReLU(inplace=True)\n",
       "        (conv2): Conv2d(128, 128, kernel_size=(3, 3), stride=(1, 1), padding=(1, 1), bias=False)\n",
       "        (bn2): BatchNorm2d(128, eps=1e-05, momentum=0.1, affine=True, track_running_stats=True)\n",
       "        (downsample): Sequential(\n",
       "          (0): Conv2d(64, 128, kernel_size=(1, 1), stride=(2, 2), bias=False)\n",
       "          (1): BatchNorm2d(128, eps=1e-05, momentum=0.1, affine=True, track_running_stats=True)\n",
       "        )\n",
       "      )\n",
       "      (1): BasicBlock(\n",
       "        (conv1): Conv2d(128, 128, kernel_size=(3, 3), stride=(1, 1), padding=(1, 1), bias=False)\n",
       "        (bn1): BatchNorm2d(128, eps=1e-05, momentum=0.1, affine=True, track_running_stats=True)\n",
       "        (relu): ReLU(inplace=True)\n",
       "        (conv2): Conv2d(128, 128, kernel_size=(3, 3), stride=(1, 1), padding=(1, 1), bias=False)\n",
       "        (bn2): BatchNorm2d(128, eps=1e-05, momentum=0.1, affine=True, track_running_stats=True)\n",
       "      )\n",
       "    )\n",
       "    (layer3): Sequential(\n",
       "      (0): BasicBlock(\n",
       "        (conv1): Conv2d(128, 256, kernel_size=(3, 3), stride=(2, 2), padding=(1, 1), bias=False)\n",
       "        (bn1): BatchNorm2d(256, eps=1e-05, momentum=0.1, affine=True, track_running_stats=True)\n",
       "        (relu): ReLU(inplace=True)\n",
       "        (conv2): Conv2d(256, 256, kernel_size=(3, 3), stride=(1, 1), padding=(1, 1), bias=False)\n",
       "        (bn2): BatchNorm2d(256, eps=1e-05, momentum=0.1, affine=True, track_running_stats=True)\n",
       "        (downsample): Sequential(\n",
       "          (0): Conv2d(128, 256, kernel_size=(1, 1), stride=(2, 2), bias=False)\n",
       "          (1): BatchNorm2d(256, eps=1e-05, momentum=0.1, affine=True, track_running_stats=True)\n",
       "        )\n",
       "      )\n",
       "      (1): BasicBlock(\n",
       "        (conv1): Conv2d(256, 256, kernel_size=(3, 3), stride=(1, 1), padding=(1, 1), bias=False)\n",
       "        (bn1): BatchNorm2d(256, eps=1e-05, momentum=0.1, affine=True, track_running_stats=True)\n",
       "        (relu): ReLU(inplace=True)\n",
       "        (conv2): Conv2d(256, 256, kernel_size=(3, 3), stride=(1, 1), padding=(1, 1), bias=False)\n",
       "        (bn2): BatchNorm2d(256, eps=1e-05, momentum=0.1, affine=True, track_running_stats=True)\n",
       "      )\n",
       "    )\n",
       "    (layer4): Sequential(\n",
       "      (0): BasicBlock(\n",
       "        (conv1): Conv2d(256, 512, kernel_size=(3, 3), stride=(2, 2), padding=(1, 1), bias=False)\n",
       "        (bn1): BatchNorm2d(512, eps=1e-05, momentum=0.1, affine=True, track_running_stats=True)\n",
       "        (relu): ReLU(inplace=True)\n",
       "        (conv2): Conv2d(512, 512, kernel_size=(3, 3), stride=(1, 1), padding=(1, 1), bias=False)\n",
       "        (bn2): BatchNorm2d(512, eps=1e-05, momentum=0.1, affine=True, track_running_stats=True)\n",
       "        (downsample): Sequential(\n",
       "          (0): Conv2d(256, 512, kernel_size=(1, 1), stride=(2, 2), bias=False)\n",
       "          (1): BatchNorm2d(512, eps=1e-05, momentum=0.1, affine=True, track_running_stats=True)\n",
       "        )\n",
       "      )\n",
       "      (1): BasicBlock(\n",
       "        (conv1): Conv2d(512, 512, kernel_size=(3, 3), stride=(1, 1), padding=(1, 1), bias=False)\n",
       "        (bn1): BatchNorm2d(512, eps=1e-05, momentum=0.1, affine=True, track_running_stats=True)\n",
       "        (relu): ReLU(inplace=True)\n",
       "        (conv2): Conv2d(512, 512, kernel_size=(3, 3), stride=(1, 1), padding=(1, 1), bias=False)\n",
       "        (bn2): BatchNorm2d(512, eps=1e-05, momentum=0.1, affine=True, track_running_stats=True)\n",
       "      )\n",
       "    )\n",
       "    (avgpool): AdaptiveAvgPool2d(output_size=(1, 1))\n",
       "    (fc): Linear(in_features=512, out_features=10, bias=True)\n",
       "  )\n",
       ")"
      ]
     },
     "execution_count": 6,
     "metadata": {},
     "output_type": "execute_result"
    }
   ],
   "source": [
    "MNIST_ResNet_Classifier = MNIST_ResNet_Classifier(out_channels = 64,\n",
    "                                                   kernel_size = 7,\n",
    "                                                   stride = 2,\n",
    "                                                   padding = 3)\n",
    "\n",
    "# Define learning rate and epochs\n",
    "learning_rate = 0.001      \n",
    "epochs = 10\n",
    "\n",
    "# Batch size for mini-batch gradient\n",
    "batchsize = 64\n",
    "\n",
    "# Using Adam as optimizer\n",
    "loss_func = torch.nn.CrossEntropyLoss()\n",
    "optimizer = torch.optim.Adam(MNIST_ResNet_Classifier.parameters(), lr=learning_rate)\n",
    "\n",
    "MNIST_ResNet_Classifier.cuda()"
   ]
  },
  {
   "cell_type": "markdown",
   "id": "50b89bcd-e989-4bf8-b314-e4595661bafb",
   "metadata": {},
   "source": [
    "## Identify Tracked values"
   ]
  },
  {
   "cell_type": "code",
   "execution_count": 7,
   "id": "8272df7d-9cf9-43b1-81fb-dfcd0e2cf6ab",
   "metadata": {},
   "outputs": [],
   "source": [
    "train_loss_list = []"
   ]
  },
  {
   "cell_type": "markdown",
   "id": "31263fcc-a4b6-4fe6-a084-118e30f79d4a",
   "metadata": {},
   "source": [
    "## Train Model"
   ]
  },
  {
   "cell_type": "code",
   "execution_count": 8,
   "id": "9f55c856-ac48-4859-a68c-d2ef8a6d925f",
   "metadata": {},
   "outputs": [],
   "source": [
    "train_loader = torch.utils.data.DataLoader(\n",
    "    train_dataset, batch_size=batchsize, shuffle=True\n",
    ")\n",
    "\n",
    "test_loader = torch.utils.data.DataLoader(\n",
    "    test_dataset, batch_size=1000, shuffle=False\n",
    ")"
   ]
  },
  {
   "cell_type": "code",
   "execution_count": 9,
   "id": "92d1a15f-8c50-4c7d-b487-8d132850ea02",
   "metadata": {},
   "outputs": [
    {
     "name": "stdout",
     "output_type": "stream",
     "text": [
      "Train Epoch: 0 \tLoss: 0.103193\n",
      "Train Epoch: 1 \tLoss: 0.009226\n",
      "Train Epoch: 2 \tLoss: 0.048294\n",
      "Train Epoch: 3 \tLoss: 0.011540\n",
      "Train Epoch: 4 \tLoss: 0.082615\n",
      "Train Epoch: 5 \tLoss: 0.038770\n",
      "Train Epoch: 6 \tLoss: 0.009741\n",
      "Train Epoch: 7 \tLoss: 0.021105\n",
      "Train Epoch: 8 \tLoss: 0.001400\n",
      "Train Epoch: 9 \tLoss: 0.021625\n"
     ]
    }
   ],
   "source": [
    "for epoch in range(epochs):\n",
    "    \n",
    "    for batch_idx, (train_input, train_target) in enumerate(train_loader):\n",
    "        \n",
    "        optimizer.zero_grad()\n",
    "        \n",
    "        pred = MNIST_ResNet_Classifier(train_input.cuda())\n",
    "        \n",
    "        loss = loss_func(pred, train_target.cuda())\n",
    "        \n",
    "        loss.backward()\n",
    "        \n",
    "        optimizer.step()\n",
    "            \n",
    "    print(\"Train Epoch: {} \\tLoss: {:.6f}\".format(epoch, loss.item()))"
   ]
  },
  {
   "cell_type": "markdown",
   "id": "db62ab2a-55a0-4e46-81fb-67f62d8328df",
   "metadata": {},
   "source": [
    "## Visualize and Evaluate Model"
   ]
  },
  {
   "cell_type": "code",
   "execution_count": 10,
   "id": "ef204344-f2c0-45ce-8678-31e46e525ee0",
   "metadata": {},
   "outputs": [],
   "source": [
    "MNIST_ResNet_Classifier.eval()\n",
    "test_loss = 0\n",
    "correct = 0\n",
    "\n",
    "with torch.no_grad():\n",
    "    \n",
    "    for test_input, test_target in test_loader:\n",
    "        \n",
    "        output = MNIST_ResNet_Classifier(test_input.cuda())\n",
    "        \n",
    "        test_loss += loss_func(output, test_target.cuda()).item()\n",
    "        \n",
    "        pred = output.argmax(dim=1, keepdim=True)\n",
    "        \n",
    "        correct += pred.eq(test_target.view_as(pred).cuda()).sum().item()"
   ]
  },
  {
   "cell_type": "code",
   "execution_count": 11,
   "id": "ac0aaf26-4be1-420d-84a4-43e16dd0c040",
   "metadata": {},
   "outputs": [
    {
     "name": "stdout",
     "output_type": "stream",
     "text": [
      "Test Accuracy: 9905/10000 (99%)\n",
      "\n"
     ]
    }
   ],
   "source": [
    "test_loss /= len(test_loader.dataset)\n",
    "\n",
    "print(\"Test Accuracy: {}/{} ({:.0f}%)\\n\".format(correct, len(test_loader.dataset), 100.0 * correct / len(test_loader.dataset)))"
   ]
  },
  {
   "cell_type": "code",
   "execution_count": null,
   "id": "bc865256-7e6e-409f-856f-1135469aac8a",
   "metadata": {},
   "outputs": [],
   "source": []
  }
 ],
 "metadata": {
  "kernelspec": {
   "display_name": "Python 3 (ipykernel)",
   "language": "python",
   "name": "python3"
  },
  "language_info": {
   "codemirror_mode": {
    "name": "ipython",
    "version": 3
   },
   "file_extension": ".py",
   "mimetype": "text/x-python",
   "name": "python",
   "nbconvert_exporter": "python",
   "pygments_lexer": "ipython3",
   "version": "3.12.3"
  }
 },
 "nbformat": 4,
 "nbformat_minor": 5
}
